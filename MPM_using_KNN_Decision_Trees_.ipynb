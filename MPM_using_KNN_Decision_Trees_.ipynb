{
  "nbformat": 4,
  "nbformat_minor": 0,
  "metadata": {
    "colab": {
      "name": "Machine Predictive maintenance .ipynb",
      "provenance": [],
      "collapsed_sections": [],
      "authorship_tag": "ABX9TyPt/gsybNr8fTcaiOU8Ltd0",
      "include_colab_link": true
    },
    "kernelspec": {
      "name": "python3",
      "display_name": "Python 3"
    },
    "language_info": {
      "name": "python"
    }
  },
  "cells": [
    {
      "cell_type": "markdown",
      "metadata": {
        "id": "view-in-github",
        "colab_type": "text"
      },
      "source": [
        "<a href=\"https://colab.research.google.com/github/Gurudevasura/Machine-Predictive-maintenance/blob/main/MPM_using_KNN_Decision_Trees_.ipynb\" target=\"_parent\"><img src=\"https://colab.research.google.com/assets/colab-badge.svg\" alt=\"Open In Colab\"/></a>"
      ]
    },
    {
      "cell_type": "markdown",
      "source": [
        "# Machine Predictive Maintenance\n",
        "Maintenance It a fuctional checks,Servicing,repairing or replacing of necessary equipment ,devices,Buliding Infrasturcture and support utilities in Business and Industial Installations. there are different type of maintenance: Predictive,Preventive,Corrective\n",
        "\n",
        "**Predictive Maintenance**:Use sensor data to monitor the system,then continuously evaluates its action by the historical trends to predict failure before it occurs.\n",
        "\n",
        "**Preventive Maintenance** which consists of intervening on a piece of equipment before it is faulty, in order to try to prevent any breakdown\n",
        "\n",
        "**Corrective Maintenance** which consists of intervening on a piece of equipment when it is faulty.\n",
        "\n",
        "In this notebook, we interest a predictive maintenance. We are going to build a machine learning model."
      ],
      "metadata": {
        "id": "uNUueGqTNwNr"
      }
    },
    {
      "cell_type": "code",
      "source": [
        ""
      ],
      "metadata": {
        "id": "6jeKTkthNvfz"
      },
      "execution_count": null,
      "outputs": []
    },
    {
      "cell_type": "markdown",
      "source": [
        "#IMPORTING REQUIRED LIBRARIES"
      ],
      "metadata": {
        "id": "ZjYIG5IXapSh"
      }
    },
    {
      "cell_type": "code",
      "execution_count": 1,
      "metadata": {
        "colab": {
          "base_uri": "https://localhost:8080/"
        },
        "id": "iAY1mOcOaTkA",
        "outputId": "705f04ba-7684-49c4-baee-4d31e98132b8"
      },
      "outputs": [
        {
          "output_type": "stream",
          "name": "stdout",
          "text": [
            "Looking in indexes: https://pypi.org/simple, https://us-python.pkg.dev/colab-wheels/public/simple/\n",
            "Collecting quick-eda\n",
            "  Downloading quick_eda-0.1.8-py3-none-any.whl (4.8 kB)\n",
            "Requirement already satisfied: pandas in /usr/local/lib/python3.7/dist-packages (from quick-eda) (1.3.5)\n",
            "Requirement already satisfied: python-dateutil>=2.7.3 in /usr/local/lib/python3.7/dist-packages (from pandas->quick-eda) (2.8.2)\n",
            "Requirement already satisfied: pytz>=2017.3 in /usr/local/lib/python3.7/dist-packages (from pandas->quick-eda) (2022.1)\n",
            "Requirement already satisfied: numpy>=1.17.3 in /usr/local/lib/python3.7/dist-packages (from pandas->quick-eda) (1.21.6)\n",
            "Requirement already satisfied: six>=1.5 in /usr/local/lib/python3.7/dist-packages (from python-dateutil>=2.7.3->pandas->quick-eda) (1.15.0)\n",
            "Installing collected packages: quick-eda\n",
            "Successfully installed quick-eda-0.1.8\n"
          ]
        }
      ],
      "source": [
        "pip install quick-eda"
      ]
    },
    {
      "cell_type": "code",
      "source": [
        "import pandas as pd\n",
        "import numpy as np\n",
        "import matplotlib.pyplot as plt\n",
        "from sklearn import preprocessing\n",
        "from sklearn.preprocessing import StandardScaler\n",
        "from sklearn.model_selection import train_test_split\n",
        "import seaborn as sns\n",
        "import quick_eda\n",
        "from quick_eda.df_eda import df_eda\n",
        "from quick_eda.column_eda import column_eda\n",
        "from sklearn.linear_model import LogisticRegression\n",
        "from sklearn.tree import DecisionTreeClassifier\n",
        "from sklearn.neighbors import KNeighborsClassifier\n",
        "from sklearn.metrics import confusion_matrix\n",
        "from warnings import filterwarnings"
      ],
      "metadata": {
        "id": "paDXggepaxzJ"
      },
      "execution_count": 112,
      "outputs": []
    },
    {
      "cell_type": "code",
      "source": [
        "plt.style.use('fivethirtyeight')\n",
        "sns.set_style('whitegrid')#Set the parameters that control the general style of the plots.The style parameters control properties like the color of the background and whether a grid is enabled by default. \n",
        "filterwarnings('ignore')#Warning messages are typically issued in situations where it is useful to alert the user of some condition in a program"
      ],
      "metadata": {
        "id": "IM8xq70fOFsX"
      },
      "execution_count": 113,
      "outputs": []
    },
    {
      "cell_type": "markdown",
      "source": [
        "#LOADING AND DISPLAYING DATA"
      ],
      "metadata": {
        "id": "tiJJQQ-ka5eP"
      }
    },
    {
      "cell_type": "code",
      "source": [
        "file =\"/content/predictive_maintenance.csv\"\n",
        "maintenance = pd.read_csv(file, sep = \",\", skipinitialspace = True)\n",
        "df= maintenance \n",
        "maintenance"
      ],
      "metadata": {
        "colab": {
          "base_uri": "https://localhost:8080/",
          "height": 485
        },
        "id": "6stqfpDIaxvj",
        "outputId": "d940b9d9-b71f-4a6a-c9eb-0ab38b65dbeb"
      },
      "execution_count": 42,
      "outputs": [
        {
          "output_type": "execute_result",
          "data": {
            "text/plain": [
              "        UDI Product ID Type  Air temperature [K]  Process temperature [K]  \\\n",
              "0         1     M14860    M                298.1                    308.6   \n",
              "1         2     L47181    L                298.2                    308.7   \n",
              "2         3     L47182    L                298.1                    308.5   \n",
              "3         4     L47183    L                298.2                    308.6   \n",
              "4         5     L47184    L                298.2                    308.7   \n",
              "...     ...        ...  ...                  ...                      ...   \n",
              "9995   9996     M24855    M                298.8                    308.4   \n",
              "9996   9997     H39410    H                298.9                    308.4   \n",
              "9997   9998     M24857    M                299.0                    308.6   \n",
              "9998   9999     H39412    H                299.0                    308.7   \n",
              "9999  10000     M24859    M                299.0                    308.7   \n",
              "\n",
              "      Rotational speed [rpm]  Torque [Nm]  Tool wear [min]  Target  \\\n",
              "0                       1551         42.8                0       0   \n",
              "1                       1408         46.3                3       0   \n",
              "2                       1498         49.4                5       0   \n",
              "3                       1433         39.5                7       0   \n",
              "4                       1408         40.0                9       0   \n",
              "...                      ...          ...              ...     ...   \n",
              "9995                    1604         29.5               14       0   \n",
              "9996                    1632         31.8               17       0   \n",
              "9997                    1645         33.4               22       0   \n",
              "9998                    1408         48.5               25       0   \n",
              "9999                    1500         40.2               30       0   \n",
              "\n",
              "     Failure Type  \n",
              "0      No Failure  \n",
              "1      No Failure  \n",
              "2      No Failure  \n",
              "3      No Failure  \n",
              "4      No Failure  \n",
              "...           ...  \n",
              "9995   No Failure  \n",
              "9996   No Failure  \n",
              "9997   No Failure  \n",
              "9998   No Failure  \n",
              "9999   No Failure  \n",
              "\n",
              "[10000 rows x 10 columns]"
            ],
            "text/html": [
              "\n",
              "  <div id=\"df-5a2e8775-7b10-4222-a09d-0408b75c1efb\">\n",
              "    <div class=\"colab-df-container\">\n",
              "      <div>\n",
              "<style scoped>\n",
              "    .dataframe tbody tr th:only-of-type {\n",
              "        vertical-align: middle;\n",
              "    }\n",
              "\n",
              "    .dataframe tbody tr th {\n",
              "        vertical-align: top;\n",
              "    }\n",
              "\n",
              "    .dataframe thead th {\n",
              "        text-align: right;\n",
              "    }\n",
              "</style>\n",
              "<table border=\"1\" class=\"dataframe\">\n",
              "  <thead>\n",
              "    <tr style=\"text-align: right;\">\n",
              "      <th></th>\n",
              "      <th>UDI</th>\n",
              "      <th>Product ID</th>\n",
              "      <th>Type</th>\n",
              "      <th>Air temperature [K]</th>\n",
              "      <th>Process temperature [K]</th>\n",
              "      <th>Rotational speed [rpm]</th>\n",
              "      <th>Torque [Nm]</th>\n",
              "      <th>Tool wear [min]</th>\n",
              "      <th>Target</th>\n",
              "      <th>Failure Type</th>\n",
              "    </tr>\n",
              "  </thead>\n",
              "  <tbody>\n",
              "    <tr>\n",
              "      <th>0</th>\n",
              "      <td>1</td>\n",
              "      <td>M14860</td>\n",
              "      <td>M</td>\n",
              "      <td>298.1</td>\n",
              "      <td>308.6</td>\n",
              "      <td>1551</td>\n",
              "      <td>42.8</td>\n",
              "      <td>0</td>\n",
              "      <td>0</td>\n",
              "      <td>No Failure</td>\n",
              "    </tr>\n",
              "    <tr>\n",
              "      <th>1</th>\n",
              "      <td>2</td>\n",
              "      <td>L47181</td>\n",
              "      <td>L</td>\n",
              "      <td>298.2</td>\n",
              "      <td>308.7</td>\n",
              "      <td>1408</td>\n",
              "      <td>46.3</td>\n",
              "      <td>3</td>\n",
              "      <td>0</td>\n",
              "      <td>No Failure</td>\n",
              "    </tr>\n",
              "    <tr>\n",
              "      <th>2</th>\n",
              "      <td>3</td>\n",
              "      <td>L47182</td>\n",
              "      <td>L</td>\n",
              "      <td>298.1</td>\n",
              "      <td>308.5</td>\n",
              "      <td>1498</td>\n",
              "      <td>49.4</td>\n",
              "      <td>5</td>\n",
              "      <td>0</td>\n",
              "      <td>No Failure</td>\n",
              "    </tr>\n",
              "    <tr>\n",
              "      <th>3</th>\n",
              "      <td>4</td>\n",
              "      <td>L47183</td>\n",
              "      <td>L</td>\n",
              "      <td>298.2</td>\n",
              "      <td>308.6</td>\n",
              "      <td>1433</td>\n",
              "      <td>39.5</td>\n",
              "      <td>7</td>\n",
              "      <td>0</td>\n",
              "      <td>No Failure</td>\n",
              "    </tr>\n",
              "    <tr>\n",
              "      <th>4</th>\n",
              "      <td>5</td>\n",
              "      <td>L47184</td>\n",
              "      <td>L</td>\n",
              "      <td>298.2</td>\n",
              "      <td>308.7</td>\n",
              "      <td>1408</td>\n",
              "      <td>40.0</td>\n",
              "      <td>9</td>\n",
              "      <td>0</td>\n",
              "      <td>No Failure</td>\n",
              "    </tr>\n",
              "    <tr>\n",
              "      <th>...</th>\n",
              "      <td>...</td>\n",
              "      <td>...</td>\n",
              "      <td>...</td>\n",
              "      <td>...</td>\n",
              "      <td>...</td>\n",
              "      <td>...</td>\n",
              "      <td>...</td>\n",
              "      <td>...</td>\n",
              "      <td>...</td>\n",
              "      <td>...</td>\n",
              "    </tr>\n",
              "    <tr>\n",
              "      <th>9995</th>\n",
              "      <td>9996</td>\n",
              "      <td>M24855</td>\n",
              "      <td>M</td>\n",
              "      <td>298.8</td>\n",
              "      <td>308.4</td>\n",
              "      <td>1604</td>\n",
              "      <td>29.5</td>\n",
              "      <td>14</td>\n",
              "      <td>0</td>\n",
              "      <td>No Failure</td>\n",
              "    </tr>\n",
              "    <tr>\n",
              "      <th>9996</th>\n",
              "      <td>9997</td>\n",
              "      <td>H39410</td>\n",
              "      <td>H</td>\n",
              "      <td>298.9</td>\n",
              "      <td>308.4</td>\n",
              "      <td>1632</td>\n",
              "      <td>31.8</td>\n",
              "      <td>17</td>\n",
              "      <td>0</td>\n",
              "      <td>No Failure</td>\n",
              "    </tr>\n",
              "    <tr>\n",
              "      <th>9997</th>\n",
              "      <td>9998</td>\n",
              "      <td>M24857</td>\n",
              "      <td>M</td>\n",
              "      <td>299.0</td>\n",
              "      <td>308.6</td>\n",
              "      <td>1645</td>\n",
              "      <td>33.4</td>\n",
              "      <td>22</td>\n",
              "      <td>0</td>\n",
              "      <td>No Failure</td>\n",
              "    </tr>\n",
              "    <tr>\n",
              "      <th>9998</th>\n",
              "      <td>9999</td>\n",
              "      <td>H39412</td>\n",
              "      <td>H</td>\n",
              "      <td>299.0</td>\n",
              "      <td>308.7</td>\n",
              "      <td>1408</td>\n",
              "      <td>48.5</td>\n",
              "      <td>25</td>\n",
              "      <td>0</td>\n",
              "      <td>No Failure</td>\n",
              "    </tr>\n",
              "    <tr>\n",
              "      <th>9999</th>\n",
              "      <td>10000</td>\n",
              "      <td>M24859</td>\n",
              "      <td>M</td>\n",
              "      <td>299.0</td>\n",
              "      <td>308.7</td>\n",
              "      <td>1500</td>\n",
              "      <td>40.2</td>\n",
              "      <td>30</td>\n",
              "      <td>0</td>\n",
              "      <td>No Failure</td>\n",
              "    </tr>\n",
              "  </tbody>\n",
              "</table>\n",
              "<p>10000 rows × 10 columns</p>\n",
              "</div>\n",
              "      <button class=\"colab-df-convert\" onclick=\"convertToInteractive('df-5a2e8775-7b10-4222-a09d-0408b75c1efb')\"\n",
              "              title=\"Convert this dataframe to an interactive table.\"\n",
              "              style=\"display:none;\">\n",
              "        \n",
              "  <svg xmlns=\"http://www.w3.org/2000/svg\" height=\"24px\"viewBox=\"0 0 24 24\"\n",
              "       width=\"24px\">\n",
              "    <path d=\"M0 0h24v24H0V0z\" fill=\"none\"/>\n",
              "    <path d=\"M18.56 5.44l.94 2.06.94-2.06 2.06-.94-2.06-.94-.94-2.06-.94 2.06-2.06.94zm-11 1L8.5 8.5l.94-2.06 2.06-.94-2.06-.94L8.5 2.5l-.94 2.06-2.06.94zm10 10l.94 2.06.94-2.06 2.06-.94-2.06-.94-.94-2.06-.94 2.06-2.06.94z\"/><path d=\"M17.41 7.96l-1.37-1.37c-.4-.4-.92-.59-1.43-.59-.52 0-1.04.2-1.43.59L10.3 9.45l-7.72 7.72c-.78.78-.78 2.05 0 2.83L4 21.41c.39.39.9.59 1.41.59.51 0 1.02-.2 1.41-.59l7.78-7.78 2.81-2.81c.8-.78.8-2.07 0-2.86zM5.41 20L4 18.59l7.72-7.72 1.47 1.35L5.41 20z\"/>\n",
              "  </svg>\n",
              "      </button>\n",
              "      \n",
              "  <style>\n",
              "    .colab-df-container {\n",
              "      display:flex;\n",
              "      flex-wrap:wrap;\n",
              "      gap: 12px;\n",
              "    }\n",
              "\n",
              "    .colab-df-convert {\n",
              "      background-color: #E8F0FE;\n",
              "      border: none;\n",
              "      border-radius: 50%;\n",
              "      cursor: pointer;\n",
              "      display: none;\n",
              "      fill: #1967D2;\n",
              "      height: 32px;\n",
              "      padding: 0 0 0 0;\n",
              "      width: 32px;\n",
              "    }\n",
              "\n",
              "    .colab-df-convert:hover {\n",
              "      background-color: #E2EBFA;\n",
              "      box-shadow: 0px 1px 2px rgba(60, 64, 67, 0.3), 0px 1px 3px 1px rgba(60, 64, 67, 0.15);\n",
              "      fill: #174EA6;\n",
              "    }\n",
              "\n",
              "    [theme=dark] .colab-df-convert {\n",
              "      background-color: #3B4455;\n",
              "      fill: #D2E3FC;\n",
              "    }\n",
              "\n",
              "    [theme=dark] .colab-df-convert:hover {\n",
              "      background-color: #434B5C;\n",
              "      box-shadow: 0px 1px 3px 1px rgba(0, 0, 0, 0.15);\n",
              "      filter: drop-shadow(0px 1px 2px rgba(0, 0, 0, 0.3));\n",
              "      fill: #FFFFFF;\n",
              "    }\n",
              "  </style>\n",
              "\n",
              "      <script>\n",
              "        const buttonEl =\n",
              "          document.querySelector('#df-5a2e8775-7b10-4222-a09d-0408b75c1efb button.colab-df-convert');\n",
              "        buttonEl.style.display =\n",
              "          google.colab.kernel.accessAllowed ? 'block' : 'none';\n",
              "\n",
              "        async function convertToInteractive(key) {\n",
              "          const element = document.querySelector('#df-5a2e8775-7b10-4222-a09d-0408b75c1efb');\n",
              "          const dataTable =\n",
              "            await google.colab.kernel.invokeFunction('convertToInteractive',\n",
              "                                                     [key], {});\n",
              "          if (!dataTable) return;\n",
              "\n",
              "          const docLinkHtml = 'Like what you see? Visit the ' +\n",
              "            '<a target=\"_blank\" href=https://colab.research.google.com/notebooks/data_table.ipynb>data table notebook</a>'\n",
              "            + ' to learn more about interactive tables.';\n",
              "          element.innerHTML = '';\n",
              "          dataTable['output_type'] = 'display_data';\n",
              "          await google.colab.output.renderOutput(dataTable, element);\n",
              "          const docLink = document.createElement('div');\n",
              "          docLink.innerHTML = docLinkHtml;\n",
              "          element.appendChild(docLink);\n",
              "        }\n",
              "      </script>\n",
              "    </div>\n",
              "  </div>\n",
              "  "
            ]
          },
          "metadata": {},
          "execution_count": 42
        }
      ]
    },
    {
      "cell_type": "markdown",
      "source": [
        "# Exploratory data analysis\n",
        "Here, we divide data in five independent failure modes (tool wear failure, heat dissipation failure, power failure, overstrain failure, random failure). We describe each failures modes.\n",
        "\n",
        "**tool wear failure (TWF)**: the tool will be replaced of fail at a randomly selected tool wear time between 200 and 240 mins (120 times in our dataset). At this point in time, the tool is replaced 69 times, and fails 51 times (randomly assigned).\n",
        "\n",
        "**heat dissipation failure (HDF)**: heat dissipation causes a process failure, if the difference between air- and process temperature is below 8.6 K and the toolâ€™s rotational speed is below 1380 rpm. This is the case for 115 data points.\n",
        "\n",
        "**power failure (PWF)**: the product of torque and rotational speed (in rad/s) equals the power required for the process. If this power is below 3500 W or above 9000 W, the process fails, which is the case 95 times in our dataset.\n",
        "\n",
        "**overstrain failure (OSF)**: if the product of tool wear and torque exceeds 11,000 minNm for the L product variant (12,000 M, 13,000 H), the process fails due to overstrain. This is true for 98 datapoints.\n",
        "\n",
        "**random failures (RNF)**: each process has a chance of 0,1 % to fail regardless of its process parameters. This is the case for only 5 datapoints, less than could be expected for 10,000 datapoints in our dataset.\n",
        "\n",
        "What follows, we are going to see how many process fails."
      ],
      "metadata": {
        "id": "th0btzFVOeV2"
      }
    },
    {
      "cell_type": "markdown",
      "source": [
        "#DATA OVERIVIEW & GRAPHICS"
      ],
      "metadata": {
        "id": "DQkTeQGxbPob"
      }
    },
    {
      "cell_type": "code",
      "source": [
        "df_eda(df)"
      ],
      "metadata": {
        "colab": {
          "base_uri": "https://localhost:8080/"
        },
        "id": "a7JEYWRiaxsb",
        "outputId": "68d89073-295d-4265-cef4-b7830e9d6d69"
      },
      "execution_count": 4,
      "outputs": [
        {
          "output_type": "stream",
          "name": "stdout",
          "text": [
            "Head of dataframe:\n",
            "\n",
            "   UDI Product ID Type  Air temperature [K]  Process temperature [K]  \\\n",
            "0    1     M14860    M                298.1                    308.6   \n",
            "1    2     L47181    L                298.2                    308.7   \n",
            "2    3     L47182    L                298.1                    308.5   \n",
            "3    4     L47183    L                298.2                    308.6   \n",
            "4    5     L47184    L                298.2                    308.7   \n",
            "\n",
            "   Rotational speed [rpm]  Torque [Nm]  Tool wear [min]  Target Failure Type  \n",
            "0                    1551         42.8                0       0   No Failure  \n",
            "1                    1408         46.3                3       0   No Failure  \n",
            "2                    1498         49.4                5       0   No Failure  \n",
            "3                    1433         39.5                7       0   No Failure  \n",
            "4                    1408         40.0                9       0   No Failure  \n",
            "- - - - - - - - - - - - - - - - - - - - - - - -\n",
            "\n",
            "Tail of dataframe:\n",
            "\n",
            "        UDI Product ID Type  Air temperature [K]  Process temperature [K]  \\\n",
            "9995   9996     M24855    M                298.8                    308.4   \n",
            "9996   9997     H39410    H                298.9                    308.4   \n",
            "9997   9998     M24857    M                299.0                    308.6   \n",
            "9998   9999     H39412    H                299.0                    308.7   \n",
            "9999  10000     M24859    M                299.0                    308.7   \n",
            "\n",
            "      Rotational speed [rpm]  Torque [Nm]  Tool wear [min]  Target  \\\n",
            "9995                    1604         29.5               14       0   \n",
            "9996                    1632         31.8               17       0   \n",
            "9997                    1645         33.4               22       0   \n",
            "9998                    1408         48.5               25       0   \n",
            "9999                    1500         40.2               30       0   \n",
            "\n",
            "     Failure Type  \n",
            "9995   No Failure  \n",
            "9996   No Failure  \n",
            "9997   No Failure  \n",
            "9998   No Failure  \n",
            "9999   No Failure  \n",
            "- - - - - - - - - - - - - - - - - - - - - - - -\n",
            "\n",
            "Names of existing columns:\n",
            "\n",
            "Index(['UDI', 'Product ID', 'Type', 'Air temperature [K]',\n",
            "       'Process temperature [K]', 'Rotational speed [rpm]', 'Torque [Nm]',\n",
            "       'Tool wear [min]', 'Target', 'Failure Type'],\n",
            "      dtype='object')\n",
            "- - - - - - - - - - - - - - - - - - - - - - - -\n",
            "\n",
            "Data types of the existing columns:\n",
            "\n",
            "<class 'pandas.core.frame.DataFrame'>\n",
            "RangeIndex: 10000 entries, 0 to 9999\n",
            "Data columns (total 10 columns):\n",
            " #   Column                   Non-Null Count  Dtype  \n",
            "---  ------                   --------------  -----  \n",
            " 0   UDI                      10000 non-null  int64  \n",
            " 1   Product ID               10000 non-null  object \n",
            " 2   Type                     10000 non-null  object \n",
            " 3   Air temperature [K]      10000 non-null  float64\n",
            " 4   Process temperature [K]  10000 non-null  float64\n",
            " 5   Rotational speed [rpm]   10000 non-null  int64  \n",
            " 6   Torque [Nm]              10000 non-null  float64\n",
            " 7   Tool wear [min]          10000 non-null  int64  \n",
            " 8   Target                   10000 non-null  int64  \n",
            " 9   Failure Type             10000 non-null  object \n",
            "dtypes: float64(3), int64(4), object(3)\n",
            "memory usage: 781.4+ KB\n",
            "None\n",
            "- - - - - - - - - - - - - - - - - - - - - - - -\n",
            "\n",
            "Numbers of columns with same data type:\n",
            "\n",
            "int64      4\n",
            "object     3\n",
            "float64    3\n",
            "dtype: int64\n",
            "- - - - - - - - - - - - - - - - - - - - - - - -\n",
            "\n",
            "Memory usage of each column:\n",
            "\n",
            "Index                        128\n",
            "UDI                        80000\n",
            "Product ID                 80000\n",
            "Type                       80000\n",
            "Air temperature [K]        80000\n",
            "Process temperature [K]    80000\n",
            "Rotational speed [rpm]     80000\n",
            "Torque [Nm]                80000\n",
            "Tool wear [min]            80000\n",
            "Target                     80000\n",
            "Failure Type               80000\n",
            "dtype: int64\n",
            "- - - - - - - - - - - - - - - - - - - - - - - -\n",
            "\n",
            "Shape of the dataframe (rows/columns):\n",
            "\n",
            "There are 10000 rows and 10 columns in this dataframe.\n",
            "- - - - - - - - - - - - - - - - - - - - - - - -\n",
            "\n",
            "Number of occuring duplicates in the dataframe:\n",
            "\n",
            "There are 0 duplicated rows in the dataframe.\n",
            "- - - - - - - - - - - - - - - - - - - - - - - -\n",
            "\n",
            "Number of occuring NULL/NA values per column:\n",
            "\n",
            "UDI                        0\n",
            "Product ID                 0\n",
            "Type                       0\n",
            "Air temperature [K]        0\n",
            "Process temperature [K]    0\n",
            "Rotational speed [rpm]     0\n",
            "Torque [Nm]                0\n",
            "Tool wear [min]            0\n",
            "Target                     0\n",
            "Failure Type               0\n",
            "dtype: int64\n",
            "- - - - - - - - - - - - - - - - - - - - - - - -\n",
            "\n",
            "Number of occuring unique values per column:\n",
            "\n",
            "UDI                        10000\n",
            "Product ID                 10000\n",
            "Type                           3\n",
            "Air temperature [K]           93\n",
            "Process temperature [K]       82\n",
            "Rotational speed [rpm]       941\n",
            "Torque [Nm]                  577\n",
            "Tool wear [min]              246\n",
            "Target                         2\n",
            "Failure Type                   6\n",
            "dtype: int64\n",
            "- - - - - - - - - - - - - - - - - - - - - - - -\n",
            "\n",
            "Standard statistics for each column:\n",
            "\n",
            "               UDI  Air temperature [K]  Process temperature [K]  \\\n",
            "count  10000.00000         10000.000000             10000.000000   \n",
            "mean    5000.50000           300.004930               310.005560   \n",
            "std     2886.89568             2.000259                 1.483734   \n",
            "min        1.00000           295.300000               305.700000   \n",
            "25%     2500.75000           298.300000               308.800000   \n",
            "50%     5000.50000           300.100000               310.100000   \n",
            "75%     7500.25000           301.500000               311.100000   \n",
            "max    10000.00000           304.500000               313.800000   \n",
            "\n",
            "       Rotational speed [rpm]   Torque [Nm]  Tool wear [min]        Target  \n",
            "count            10000.000000  10000.000000     10000.000000  10000.000000  \n",
            "mean              1538.776100     39.986910       107.951000      0.033900  \n",
            "std                179.284096      9.968934        63.654147      0.180981  \n",
            "min               1168.000000      3.800000         0.000000      0.000000  \n",
            "25%               1423.000000     33.200000        53.000000      0.000000  \n",
            "50%               1503.000000     40.100000       108.000000      0.000000  \n",
            "75%               1612.000000     46.800000       162.000000      0.000000  \n",
            "max               2886.000000     76.600000       253.000000      1.000000  \n",
            "- - - - - - - - - - - - - - - - - - - - - - - -\n",
            "\n",
            "Correlations between columns:\n",
            "\n",
            "                              UDI  Air temperature [K]  \\\n",
            "UDI                      1.000000             0.117428   \n",
            "Air temperature [K]      0.117428             1.000000   \n",
            "Process temperature [K]  0.324428             0.876107   \n",
            "Rotational speed [rpm]  -0.006615             0.022670   \n",
            "Torque [Nm]              0.003207            -0.013778   \n",
            "Tool wear [min]         -0.010702             0.013853   \n",
            "Target                  -0.022892             0.082556   \n",
            "\n",
            "                         Process temperature [K]  Rotational speed [rpm]  \\\n",
            "UDI                                     0.324428               -0.006615   \n",
            "Air temperature [K]                     0.876107                0.022670   \n",
            "Process temperature [K]                 1.000000                0.019277   \n",
            "Rotational speed [rpm]                  0.019277                1.000000   \n",
            "Torque [Nm]                            -0.014061               -0.875027   \n",
            "Tool wear [min]                         0.013488                0.000223   \n",
            "Target                                  0.035946               -0.044188   \n",
            "\n",
            "                         Torque [Nm]  Tool wear [min]    Target  \n",
            "UDI                         0.003207        -0.010702 -0.022892  \n",
            "Air temperature [K]        -0.013778         0.013853  0.082556  \n",
            "Process temperature [K]    -0.014061         0.013488  0.035946  \n",
            "Rotational speed [rpm]     -0.875027         0.000223 -0.044188  \n",
            "Torque [Nm]                 1.000000        -0.003093  0.191321  \n",
            "Tool wear [min]            -0.003093         1.000000  0.105448  \n",
            "Target                      0.191321         0.105448  1.000000  \n",
            "- - - - - - - - - - - - - - - - - - - - - - - -\n"
          ]
        }
      ]
    },
    {
      "cell_type": "markdown",
      "source": [
        "Pie Chart showing the different Failure Types"
      ],
      "metadata": {
        "id": "3UysgN4zbZ6E"
      }
    },
    {
      "cell_type": "code",
      "source": [
        "df[\"Failure Type\"].unique()"
      ],
      "metadata": {
        "colab": {
          "base_uri": "https://localhost:8080/"
        },
        "id": "_yO456Jiaxp2",
        "outputId": "521b0bb2-ddba-4239-a805-fdff72049f33"
      },
      "execution_count": 5,
      "outputs": [
        {
          "output_type": "execute_result",
          "data": {
            "text/plain": [
              "array(['No Failure', 'Power Failure', 'Tool Wear Failure',\n",
              "       'Overstrain Failure', 'Random Failures',\n",
              "       'Heat Dissipation Failure'], dtype=object)"
            ]
          },
          "metadata": {},
          "execution_count": 5
        }
      ]
    },
    {
      "cell_type": "code",
      "source": [
        "df[\"Failure Type\"].value_counts()"
      ],
      "metadata": {
        "colab": {
          "base_uri": "https://localhost:8080/"
        },
        "id": "Wf8D2Q6Taxm2",
        "outputId": "4c348ce8-6130-4db1-e571-d9cd472af991"
      },
      "execution_count": 6,
      "outputs": [
        {
          "output_type": "execute_result",
          "data": {
            "text/plain": [
              "No Failure                  9652\n",
              "Heat Dissipation Failure     112\n",
              "Power Failure                 95\n",
              "Overstrain Failure            78\n",
              "Tool Wear Failure             45\n",
              "Random Failures               18\n",
              "Name: Failure Type, dtype: int64"
            ]
          },
          "metadata": {},
          "execution_count": 6
        }
      ]
    },
    {
      "cell_type": "code",
      "source": [
        "plt.figure(figsize=(8,10))\n",
        "g=sns.countplot(x='Target', data=maintenance)\n",
        "for i, u in enumerate(maintenance['Target'].value_counts().values):\n",
        "    g.text(i, u, str(u), bbox=dict(facecolor='green', alpha=0.5))\n",
        "plt.title('Machine maintenance decision.')\n",
        "plt.show()"
      ],
      "metadata": {
        "colab": {
          "base_uri": "https://localhost:8080/",
          "height": 675
        },
        "id": "SUHFybTtOs1m",
        "outputId": "277e71a4-debf-4f36-8eda-2faf860aaa49"
      },
      "execution_count": 114,
      "outputs": [
        {
          "output_type": "display_data",
          "data": {
            "text/plain": [
              "<Figure size 576x720 with 1 Axes>"
            ],
            "image/png": "[encoded data removed]"
          },
          "metadata": {}
        }
      ]
    },
    {
      "cell_type": "markdown",
      "source": [
        "**Target are very unbalanced**.\n",
        "\n",
        "**96.61%** of the datasets are **no failure** and **3.39%** of the datasets are **failure**."
      ],
      "metadata": {
        "id": "SO1bshCGOwoI"
      }
    },
    {
      "cell_type": "code",
      "source": [
        "plt.figure(figsize=(15,5))\n",
        "h=sns.countplot(x='Type', data=maintenance, order=['L','M','H'])\n",
        "for i, u in enumerate(maintenance['Type'].value_counts().values):\n",
        "    h.text(i, u, str(u), bbox=dict(facecolor='green', alpha=0.5))\n",
        "plt.title('Product type')\n",
        "plt.show()"
      ],
      "metadata": {
        "colab": {
          "base_uri": "https://localhost:8080/",
          "height": 383
        },
        "id": "wihcw8ACO9lh",
        "outputId": "5a3d5aec-fb9e-485a-91f3-5d9d39155522"
      },
      "execution_count": 115,
      "outputs": [
        {
          "output_type": "display_data",
          "data": {
            "text/plain": [
              "<Figure size 1080x360 with 1 Axes>"
            ],
            "image/png": "[encoded data removed]"
          },
          "metadata": {}
        }
      ]
    },
    {
      "cell_type": "markdown",
      "source": [
        "Product type L are mojorities in the datatsets."
      ],
      "metadata": {
        "id": "r3-NPgFZPBZN"
      }
    },
    {
      "cell_type": "code",
      "source": [
        "plt.figure(figsize=(15,5))\n",
        "machine_failure = maintenance[maintenance['Failure Type'] != 'No Failure']\n",
        "hg=sns.countplot(x='Failure Type', data=machine_failure, order=['Heat Dissipation Failure', 'Power Failure',\n",
        "                                                              'Overstrain Failure', 'Tool Wear Failure',\n",
        "                                                              'Random Failures'])\n",
        "for i, u in enumerate(machine_failure['Failure Type'].value_counts().values):\n",
        "    hg.text(i, u, str(u), bbox=dict(facecolor='green', alpha=0.5))\n",
        "plt.title('Machine Failure Type')\n",
        "plt.show()"
      ],
      "metadata": {
        "colab": {
          "base_uri": "https://localhost:8080/",
          "height": 383
        },
        "id": "GEndqpyXPCRS",
        "outputId": "6868c67a-2eef-4829-a1c2-0490c447fd75"
      },
      "execution_count": 124,
      "outputs": [
        {
          "output_type": "display_data",
          "data": {
            "text/plain": [
              "<Figure size 1080x360 with 1 Axes>"
            ],
            "image/png": "[encoded data removed]"
          },
          "metadata": {}
        }
      ]
    },
    {
      "cell_type": "code",
      "source": [
        "vc = df[\"Failure Type\"].value_counts()\n",
        "\n",
        "plt.title(\"Occurences of Failure Types\", fontsize=16)\n",
        "\n",
        "labels = [\"No Failure\", \"Heat Dissipation Failure\", \"Power Failure\", \"Overstrain Failure\", \"Tool Wear Failure\", \"Random Failures\"]\n",
        "\n",
        "vc.plot(kind=\"pie\", figsize=(21,21), startangle=360)\n",
        "\n",
        "plt.legend(fontsize=13)\n",
        "plt.show()"
      ],
      "metadata": {
        "colab": {
          "base_uri": "https://localhost:8080/",
          "height": 1000
        },
        "id": "VXCsEqH9axf8",
        "outputId": "6925acc3-d70f-4910-bfc2-fd94f39a8784"
      },
      "execution_count": 123,
      "outputs": [
        {
          "output_type": "display_data",
          "data": {
            "text/plain": [
              "<Figure size 1512x1512 with 1 Axes>"
            ],
            "image/png": "[encoded data removed]"
          },
          "metadata": {}
        }
      ]
    },
    {
      "cell_type": "code",
      "source": [
        "correlations = df.corr()\n",
        "\n",
        "plt.figure(figsize=(16, 16))\n",
        "plt.title(\"Heatmap displaying the correlations between all columns\", fontsize=20)\n",
        "sns.heatmap(correlations, annot=True, cmap=\"YlGnBu\", cbar_kws={'label': 'Correlation Value'})"
      ],
      "metadata": {
        "colab": {
          "base_uri": "https://localhost:8080/",
          "height": 1000
        },
        "id": "_vmEKDuzaxZ7",
        "outputId": "09d10590-f3f9-49be-b729-7555278cb2be"
      },
      "execution_count": 8,
      "outputs": [
        {
          "output_type": "execute_result",
          "data": {
            "text/plain": [
              "<matplotlib.axes._subplots.AxesSubplot at 0x7f1f82452f90>"
            ]
          },
          "metadata": {},
          "execution_count": 8
        },
        {
          "output_type": "display_data",
          "data": {
            "text/plain": [
              "<Figure size 1152x1152 with 2 Axes>"
            ],
            "image/png": "[encoded data removed]"
          },
          "metadata": {
            "needs_background": "light"
          }
        }
      ]
    },
    {
      "cell_type": "markdown",
      "source": [
        "#PREDICTING TARGET"
      ],
      "metadata": {
        "id": "y9zk2aoBbkcS"
      }
    },
    {
      "cell_type": "markdown",
      "source": [
        "Label Encoding data"
      ],
      "metadata": {
        "id": "eKvR09ZvbpMK"
      }
    },
    {
      "cell_type": "code",
      "source": [
        "df[\"Product ID\"] = df[\"Product ID\"].astype(\"str\")\n",
        "df[\"Type\"] = df[\"Type\"].astype(\"str\")\n",
        "df[\"Failure Type\"] = df[\"Failure Type\"].astype(\"str\")\n",
        "\n",
        "number = preprocessing.LabelEncoder()\n",
        "\n",
        "df[\"Product ID\"] = number.fit_transform(df[\"Product ID\"])\n",
        "df[\"Type\"] = number.fit_transform(df[\"Type\"])\n",
        "df[\"Failure Type\"] = number.fit_transform(df[\"Failure Type\"])"
      ],
      "metadata": {
        "id": "KVCnMpmYaxMq"
      },
      "execution_count": 9,
      "outputs": []
    },
    {
      "cell_type": "markdown",
      "source": [
        "Splitting data"
      ],
      "metadata": {
        "id": "OSHvWap1bvaH"
      }
    },
    {
      "cell_type": "code",
      "source": [
        "X = df.drop([\"Target\"], axis = 1).values\n",
        "y = df[\"Target\"].values\n",
        "\n",
        "X_train, X_test, y_train, y_test = train_test_split(X, y, random_state = 0, test_size = 0.25)"
      ],
      "metadata": {
        "id": "O7bbfhkFbwJi"
      },
      "execution_count": 10,
      "outputs": []
    },
    {
      "cell_type": "markdown",
      "source": [
        "Scaling data"
      ],
      "metadata": {
        "id": "YRposyUjb1Eh"
      }
    },
    {
      "cell_type": "code",
      "source": [
        "scaler = StandardScaler()\n",
        "scaler.fit(X_train)\n",
        "\n",
        "X_train = scaler.transform(X_train)\n",
        "X_test = scaler.transform(X_test)"
      ],
      "metadata": {
        "id": "Tce67S5hb142"
      },
      "execution_count": 11,
      "outputs": []
    },
    {
      "cell_type": "markdown",
      "source": [
        "Logistic Regression"
      ],
      "metadata": {
        "id": "AVmXZzuTb71u"
      }
    },
    {
      "cell_type": "code",
      "source": [
        "model = LogisticRegression()\n",
        "model.fit(X_train, y_train)\n",
        "\n",
        "print(model.score(X_test, y_test))"
      ],
      "metadata": {
        "colab": {
          "base_uri": "https://localhost:8080/"
        },
        "id": "XkdR8G9Vb8hv",
        "outputId": "c50c00e5-153e-41f9-83be-de1afba58875"
      },
      "execution_count": 12,
      "outputs": [
        {
          "output_type": "stream",
          "name": "stdout",
          "text": [
            "0.978\n"
          ]
        }
      ]
    },
    {
      "cell_type": "markdown",
      "source": [
        "Decision Tree"
      ],
      "metadata": {
        "id": "BWKB6zGEcBp7"
      }
    },
    {
      "cell_type": "code",
      "source": [
        "model = DecisionTreeClassifier(criterion = \"entropy\")\n",
        "model.fit(X_train, y_train)\n",
        "\n",
        "print(model.score(X_test, y_test))"
      ],
      "metadata": {
        "colab": {
          "base_uri": "https://localhost:8080/"
        },
        "id": "1SDjeI4ycChP",
        "outputId": "0ec80ef5-2237-48e2-a23d-b2ef4f14c476"
      },
      "execution_count": 13,
      "outputs": [
        {
          "output_type": "stream",
          "name": "stdout",
          "text": [
            "0.998\n"
          ]
        }
      ]
    },
    {
      "cell_type": "markdown",
      "source": [
        "KNN"
      ],
      "metadata": {
        "id": "ImQfvs83cGyg"
      }
    },
    {
      "cell_type": "code",
      "source": [
        "model = KNeighborsClassifier(n_neighbors = 5)\n",
        "model.fit(X_train, y_train)\n",
        "\n",
        "print(model.score(X_test, y_test))"
      ],
      "metadata": {
        "colab": {
          "base_uri": "https://localhost:8080/"
        },
        "id": "94QB6MjocHNm",
        "outputId": "346d0720-878b-4da7-e5df-a4aaf47af61b"
      },
      "execution_count": 14,
      "outputs": [
        {
          "output_type": "stream",
          "name": "stdout",
          "text": [
            "0.998\n"
          ]
        }
      ]
    },
    {
      "cell_type": "markdown",
      "source": [
        "Evaluating model through prediction on test data"
      ],
      "metadata": {
        "id": "bIHLDW1ZcMzC"
      }
    },
    {
      "cell_type": "code",
      "source": [
        "y_test_pred = model.predict(X_test)"
      ],
      "metadata": {
        "id": "vhGJgbfZcPJ3"
      },
      "execution_count": 15,
      "outputs": []
    },
    {
      "cell_type": "code",
      "source": [
        "# Predicted y values\n",
        "print(y_test_pred)"
      ],
      "metadata": {
        "colab": {
          "base_uri": "https://localhost:8080/"
        },
        "id": "bVLMnACjcR_z",
        "outputId": "9131ea89-ef2b-48b9-980f-d4fcab37a046"
      },
      "execution_count": 16,
      "outputs": [
        {
          "output_type": "stream",
          "name": "stdout",
          "text": [
            "[0 0 0 ... 0 0 0]\n"
          ]
        }
      ]
    },
    {
      "cell_type": "code",
      "source": [
        "print(y_test)"
      ],
      "metadata": {
        "colab": {
          "base_uri": "https://localhost:8080/"
        },
        "id": "GOUohuPjcRup",
        "outputId": "cd813920-ff1c-46a0-e683-74da8f06bc13"
      },
      "execution_count": 17,
      "outputs": [
        {
          "output_type": "stream",
          "name": "stdout",
          "text": [
            "[0 0 0 ... 0 0 0]\n"
          ]
        }
      ]
    },
    {
      "cell_type": "code",
      "source": [
        "confusion_matrix(y_test, y_test_pred)"
      ],
      "metadata": {
        "colab": {
          "base_uri": "https://localhost:8080/"
        },
        "id": "9nQ6ZmU7cXDo",
        "outputId": "235c1f89-0706-4e5e-b9cf-81a0f4e82f73"
      },
      "execution_count": 18,
      "outputs": [
        {
          "output_type": "execute_result",
          "data": {
            "text/plain": [
              "array([[2412,    0],\n",
              "       [   5,   83]])"
            ]
          },
          "metadata": {},
          "execution_count": 18
        }
      ]
    },
    {
      "cell_type": "markdown",
      "source": [
        "#PREDICTING FAILURE TYPE"
      ],
      "metadata": {
        "id": "kL2zRbIvca3Z"
      }
    },
    {
      "cell_type": "code",
      "source": [
        "X = df.drop([\"Failure Type\"], axis = 1).values\n",
        "y = df[\"Failure Type\"].values\n",
        "\n",
        "X_train, X_test, y_train,y_test = train_test_split(X, y, random_state = 0, test_size = 0.25)\n",
        "\n"
      ],
      "metadata": {
        "id": "z6pamn3rccdE"
      },
      "execution_count": null,
      "outputs": []
    },
    {
      "cell_type": "code",
      "source": [
        "X_train.shape"
      ],
      "metadata": {
        "colab": {
          "base_uri": "https://localhost:8080/"
        },
        "id": "1MqWbjogmUmV",
        "outputId": "c5305143-8df0-40de-97ce-44b69bb9ff9d"
      },
      "execution_count": 33,
      "outputs": [
        {
          "output_type": "execute_result",
          "data": {
            "text/plain": [
              "(7500, 9)"
            ]
          },
          "metadata": {},
          "execution_count": 33
        }
      ]
    },
    {
      "cell_type": "code",
      "source": [
        " X_test.shape\n"
      ],
      "metadata": {
        "colab": {
          "base_uri": "https://localhost:8080/"
        },
        "id": "OqhX_l_BmaqI",
        "outputId": "7c4cea66-fd2b-4972-96ab-9c5c784bee18"
      },
      "execution_count": 32,
      "outputs": [
        {
          "output_type": "execute_result",
          "data": {
            "text/plain": [
              "(2500, 9)"
            ]
          },
          "metadata": {},
          "execution_count": 32
        }
      ]
    },
    {
      "cell_type": "code",
      "source": [
        "scaler = StandardScaler()\n",
        "scaler.fit(X_train)\n",
        "\n",
        "X_train = scaler.transform(X_train)\n",
        "X_test = scaler.transform(X_test)"
      ],
      "metadata": {
        "id": "VTIAviv1cggz"
      },
      "execution_count": 34,
      "outputs": []
    },
    {
      "cell_type": "code",
      "source": [
        "model = LogisticRegression(multi_class = \"multinomial\", solver = \"saga\")\n",
        "model.fit(X_train, y_train)\n",
        "print(model.score(X_test, y_test))\n"
      ],
      "metadata": {
        "colab": {
          "base_uri": "https://localhost:8080/"
        },
        "id": "87dsYeGPciq5",
        "outputId": "71136ace-c973-4c06-c30a-ad350d4a63c1"
      },
      "execution_count": 41,
      "outputs": [
        {
          "output_type": "stream",
          "name": "stdout",
          "text": [
            "0.9948\n"
          ]
        },
        {
          "output_type": "stream",
          "name": "stderr",
          "text": [
            "/usr/local/lib/python3.7/dist-packages/sklearn/linear_model/_sag.py:354: ConvergenceWarning: The max_iter was reached which means the coef_ did not converge\n",
            "  ConvergenceWarning,\n"
          ]
        }
      ]
    },
    {
      "cell_type": "markdown",
      "source": [
        "Evaluating by checking if correct failure types were pedicted"
      ],
      "metadata": {
        "id": "tk5yDaMxcowA"
      }
    },
    {
      "cell_type": "code",
      "source": [
        "y_test_pred = model.predict(X_test)"
      ],
      "metadata": {
        "id": "YTmFMxvucoXh"
      },
      "execution_count": 22,
      "outputs": []
    },
    {
      "cell_type": "code",
      "source": [
        "# Predicted failure types\n",
        "print(y_test_pred) # Failure types are labeled (1 being no failure and so on...)"
      ],
      "metadata": {
        "colab": {
          "base_uri": "https://localhost:8080/"
        },
        "id": "PuM00NR4cuvT",
        "outputId": "4296e188-055d-4084-b4ef-63e9a677a01c"
      },
      "execution_count": 23,
      "outputs": [
        {
          "output_type": "stream",
          "name": "stdout",
          "text": [
            "[1 1 1 ... 1 1 1]\n"
          ]
        }
      ]
    },
    {
      "cell_type": "code",
      "source": [
        "predicted_failure_types = number.inverse_transform(y_test_pred)\n",
        "predicted_failure_types"
      ],
      "metadata": {
        "colab": {
          "base_uri": "https://localhost:8080/"
        },
        "id": "8hp8VxKOcxd7",
        "outputId": "181018bf-a4a3-4f00-ee90-de9a0a8b38a5"
      },
      "execution_count": 24,
      "outputs": [
        {
          "output_type": "execute_result",
          "data": {
            "text/plain": [
              "array(['No Failure', 'No Failure', 'No Failure', ..., 'No Failure',\n",
              "       'No Failure', 'No Failure'], dtype=object)"
            ]
          },
          "metadata": {},
          "execution_count": 24
        }
      ]
    },
    {
      "cell_type": "code",
      "source": [
        "# Real failure types\n",
        "print(y_test)"
      ],
      "metadata": {
        "colab": {
          "base_uri": "https://localhost:8080/"
        },
        "id": "U6r-q9Zhc0NX",
        "outputId": "214bfdcf-212e-4aeb-be18-15b7c468dea0"
      },
      "execution_count": 25,
      "outputs": [
        {
          "output_type": "stream",
          "name": "stdout",
          "text": [
            "[1 1 1 ... 1 1 1]\n"
          ]
        }
      ]
    },
    {
      "cell_type": "code",
      "source": [
        "real_failure_types = number.inverse_transform(y_test)\n",
        "real_failure_types"
      ],
      "metadata": {
        "colab": {
          "base_uri": "https://localhost:8080/"
        },
        "id": "_P-HS8W9c4Hc",
        "outputId": "ba5075f4-34f7-4787-934b-180ca58a8f72"
      },
      "execution_count": 26,
      "outputs": [
        {
          "output_type": "execute_result",
          "data": {
            "text/plain": [
              "array(['No Failure', 'No Failure', 'No Failure', ..., 'No Failure',\n",
              "       'No Failure', 'No Failure'], dtype=object)"
            ]
          },
          "metadata": {},
          "execution_count": 26
        }
      ]
    },
    {
      "cell_type": "code",
      "source": [
        "cf_matrix = confusion_matrix(y_test, y_test_pred)\n",
        "confusion_matrix(y_test, y_test_pred)"
      ],
      "metadata": {
        "colab": {
          "base_uri": "https://localhost:8080/"
        },
        "id": "PfE8YGluc6ad",
        "outputId": "9d15b070-eaee-49cb-e996-3dcc2fe4c097"
      },
      "execution_count": 67,
      "outputs": [
        {
          "output_type": "execute_result",
          "data": {
            "text/plain": [
              "array([[  26,    0,    0,    0,    0,    0],\n",
              "       [   2, 2408,    1,    1,    0,    1],\n",
              "       [   0,    0,   25,    0,    0,    0],\n",
              "       [   0,    0,    0,   21,    0,    0],\n",
              "       [   0,    4,    0,    0,    0,    0],\n",
              "       [   0,    0,    4,    0,    0,    7]])"
            ]
          },
          "metadata": {},
          "execution_count": 67
        }
      ]
    },
    {
      "cell_type": "code",
      "source": [
        "from numpy.core.numeric import indices\n",
        "from sklearn.utils.multiclass import unique_labels\n",
        "labels=['Heat Dissipation Failure', 'Power Failure','Overstrain Failure', 'Tool Wear Failure','Random Failures']\n",
        "def plot(y_test, y_test_pred):\n",
        "   labels =unique_labels(y_test)\n",
        "   column = [f'Predicted{label}' for label in labels]\n",
        "   indices = ['Heat Dissipation Failure', 'No Failure','Power Failure','Overstrain Failure', 'Tool Wear Failure','Random Failures']#[f'Actual{label}' for label in labels]\n",
        "   table = pd.DataFrame(confusion_matrix(y_test, y_test_pred)\n",
        "                        ,columns=column,index=indices)\n",
        "    \n",
        "   return table    "
      ],
      "metadata": {
        "id": "bGDuQ9Q8BdOY"
      },
      "execution_count": 125,
      "outputs": []
    },
    {
      "cell_type": "code",
      "source": [
        "plot(y_test, y_test_pred)"
      ],
      "metadata": {
        "colab": {
          "base_uri": "https://localhost:8080/",
          "height": 237
        },
        "id": "EnVAH8LFC1-o",
        "outputId": "882662ac-a5dc-42f9-8a46-79a76aec45f8"
      },
      "execution_count": 126,
      "outputs": [
        {
          "output_type": "execute_result",
          "data": {
            "text/plain": [
              "                          Predicted0  Predicted1  Predicted2  Predicted3  \\\n",
              "Heat Dissipation Failure          26           0           0           0   \n",
              "No Failure                         2        2408           1           1   \n",
              "Power Failure                      0           0          25           0   \n",
              "Overstrain Failure                 0           0           0          21   \n",
              "Tool Wear Failure                  0           4           0           0   \n",
              "Random Failures                    0           0           4           0   \n",
              "\n",
              "                          Predicted4  Predicted5  \n",
              "Heat Dissipation Failure           0           0  \n",
              "No Failure                         0           1  \n",
              "Power Failure                      0           0  \n",
              "Overstrain Failure                 0           0  \n",
              "Tool Wear Failure                  0           0  \n",
              "Random Failures                    0           7  "
            ],
            "text/html": [
              "\n",
              "  <div id=\"df-7c3d2c55-3720-4715-ba5a-4428ad77e56d\">\n",
              "    <div class=\"colab-df-container\">\n",
              "      <div>\n",
              "<style scoped>\n",
              "    .dataframe tbody tr th:only-of-type {\n",
              "        vertical-align: middle;\n",
              "    }\n",
              "\n",
              "    .dataframe tbody tr th {\n",
              "        vertical-align: top;\n",
              "    }\n",
              "\n",
              "    .dataframe thead th {\n",
              "        text-align: right;\n",
              "    }\n",
              "</style>\n",
              "<table border=\"1\" class=\"dataframe\">\n",
              "  <thead>\n",
              "    <tr style=\"text-align: right;\">\n",
              "      <th></th>\n",
              "      <th>Predicted0</th>\n",
              "      <th>Predicted1</th>\n",
              "      <th>Predicted2</th>\n",
              "      <th>Predicted3</th>\n",
              "      <th>Predicted4</th>\n",
              "      <th>Predicted5</th>\n",
              "    </tr>\n",
              "  </thead>\n",
              "  <tbody>\n",
              "    <tr>\n",
              "      <th>Heat Dissipation Failure</th>\n",
              "      <td>26</td>\n",
              "      <td>0</td>\n",
              "      <td>0</td>\n",
              "      <td>0</td>\n",
              "      <td>0</td>\n",
              "      <td>0</td>\n",
              "    </tr>\n",
              "    <tr>\n",
              "      <th>No Failure</th>\n",
              "      <td>2</td>\n",
              "      <td>2408</td>\n",
              "      <td>1</td>\n",
              "      <td>1</td>\n",
              "      <td>0</td>\n",
              "      <td>1</td>\n",
              "    </tr>\n",
              "    <tr>\n",
              "      <th>Power Failure</th>\n",
              "      <td>0</td>\n",
              "      <td>0</td>\n",
              "      <td>25</td>\n",
              "      <td>0</td>\n",
              "      <td>0</td>\n",
              "      <td>0</td>\n",
              "    </tr>\n",
              "    <tr>\n",
              "      <th>Overstrain Failure</th>\n",
              "      <td>0</td>\n",
              "      <td>0</td>\n",
              "      <td>0</td>\n",
              "      <td>21</td>\n",
              "      <td>0</td>\n",
              "      <td>0</td>\n",
              "    </tr>\n",
              "    <tr>\n",
              "      <th>Tool Wear Failure</th>\n",
              "      <td>0</td>\n",
              "      <td>4</td>\n",
              "      <td>0</td>\n",
              "      <td>0</td>\n",
              "      <td>0</td>\n",
              "      <td>0</td>\n",
              "    </tr>\n",
              "    <tr>\n",
              "      <th>Random Failures</th>\n",
              "      <td>0</td>\n",
              "      <td>0</td>\n",
              "      <td>4</td>\n",
              "      <td>0</td>\n",
              "      <td>0</td>\n",
              "      <td>7</td>\n",
              "    </tr>\n",
              "  </tbody>\n",
              "</table>\n",
              "</div>\n",
              "      <button class=\"colab-df-convert\" onclick=\"convertToInteractive('df-7c3d2c55-3720-4715-ba5a-4428ad77e56d')\"\n",
              "              title=\"Convert this dataframe to an interactive table.\"\n",
              "              style=\"display:none;\">\n",
              "        \n",
              "  <svg xmlns=\"http://www.w3.org/2000/svg\" height=\"24px\"viewBox=\"0 0 24 24\"\n",
              "       width=\"24px\">\n",
              "    <path d=\"M0 0h24v24H0V0z\" fill=\"none\"/>\n",
              "    <path d=\"M18.56 5.44l.94 2.06.94-2.06 2.06-.94-2.06-.94-.94-2.06-.94 2.06-2.06.94zm-11 1L8.5 8.5l.94-2.06 2.06-.94-2.06-.94L8.5 2.5l-.94 2.06-2.06.94zm10 10l.94 2.06.94-2.06 2.06-.94-2.06-.94-.94-2.06-.94 2.06-2.06.94z\"/><path d=\"M17.41 7.96l-1.37-1.37c-.4-.4-.92-.59-1.43-.59-.52 0-1.04.2-1.43.59L10.3 9.45l-7.72 7.72c-.78.78-.78 2.05 0 2.83L4 21.41c.39.39.9.59 1.41.59.51 0 1.02-.2 1.41-.59l7.78-7.78 2.81-2.81c.8-.78.8-2.07 0-2.86zM5.41 20L4 18.59l7.72-7.72 1.47 1.35L5.41 20z\"/>\n",
              "  </svg>\n",
              "      </button>\n",
              "      \n",
              "  <style>\n",
              "    .colab-df-container {\n",
              "      display:flex;\n",
              "      flex-wrap:wrap;\n",
              "      gap: 12px;\n",
              "    }\n",
              "\n",
              "    .colab-df-convert {\n",
              "      background-color: #E8F0FE;\n",
              "      border: none;\n",
              "      border-radius: 50%;\n",
              "      cursor: pointer;\n",
              "      display: none;\n",
              "      fill: #1967D2;\n",
              "      height: 32px;\n",
              "      padding: 0 0 0 0;\n",
              "      width: 32px;\n",
              "    }\n",
              "\n",
              "    .colab-df-convert:hover {\n",
              "      background-color: #E2EBFA;\n",
              "      box-shadow: 0px 1px 2px rgba(60, 64, 67, 0.3), 0px 1px 3px 1px rgba(60, 64, 67, 0.15);\n",
              "      fill: #174EA6;\n",
              "    }\n",
              "\n",
              "    [theme=dark] .colab-df-convert {\n",
              "      background-color: #3B4455;\n",
              "      fill: #D2E3FC;\n",
              "    }\n",
              "\n",
              "    [theme=dark] .colab-df-convert:hover {\n",
              "      background-color: #434B5C;\n",
              "      box-shadow: 0px 1px 3px 1px rgba(0, 0, 0, 0.15);\n",
              "      filter: drop-shadow(0px 1px 2px rgba(0, 0, 0, 0.3));\n",
              "      fill: #FFFFFF;\n",
              "    }\n",
              "  </style>\n",
              "\n",
              "      <script>\n",
              "        const buttonEl =\n",
              "          document.querySelector('#df-7c3d2c55-3720-4715-ba5a-4428ad77e56d button.colab-df-convert');\n",
              "        buttonEl.style.display =\n",
              "          google.colab.kernel.accessAllowed ? 'block' : 'none';\n",
              "\n",
              "        async function convertToInteractive(key) {\n",
              "          const element = document.querySelector('#df-7c3d2c55-3720-4715-ba5a-4428ad77e56d');\n",
              "          const dataTable =\n",
              "            await google.colab.kernel.invokeFunction('convertToInteractive',\n",
              "                                                     [key], {});\n",
              "          if (!dataTable) return;\n",
              "\n",
              "          const docLinkHtml = 'Like what you see? Visit the ' +\n",
              "            '<a target=\"_blank\" href=https://colab.research.google.com/notebooks/data_table.ipynb>data table notebook</a>'\n",
              "            + ' to learn more about interactive tables.';\n",
              "          element.innerHTML = '';\n",
              "          dataTable['output_type'] = 'display_data';\n",
              "          await google.colab.output.renderOutput(dataTable, element);\n",
              "          const docLink = document.createElement('div');\n",
              "          docLink.innerHTML = docLinkHtml;\n",
              "          element.appendChild(docLink);\n",
              "        }\n",
              "      </script>\n",
              "    </div>\n",
              "  </div>\n",
              "  "
            ]
          },
          "metadata": {},
          "execution_count": 126
        }
      ]
    },
    {
      "cell_type": "code",
      "source": [
        "def plot2(y_test, y_test_pred):\n",
        "   labels =unique_labels(y_test)\n",
        "   column = [f'Predicted{label}' for label in labels]\n",
        "   indices = [f'Actual{label}' for label in labels]\n",
        "   table = pd.DataFrame(confusion_matrix(y_test, y_test_pred)\n",
        "                        ,columns=column,index=indices)\n",
        "    \n",
        "   return sns.heatmap(cf_matrix, annot=True, fmt= 'd', cmap='viridis')\n",
        "\n",
        "\n",
        "plot2(y_test, y_test_pred);"
      ],
      "metadata": {
        "colab": {
          "base_uri": "https://localhost:8080/",
          "height": 265
        },
        "id": "BCw86-gQoeFn",
        "outputId": "fa1bd594-2062-4835-8cff-72626112cb69"
      },
      "execution_count": 108,
      "outputs": [
        {
          "output_type": "display_data",
          "data": {
            "text/plain": [
              "<Figure size 432x288 with 2 Axes>"
            ],
            "image/png": "[encoded data removed]"
          },
          "metadata": {
            "needs_background": "light"
          }
        }
      ]
    }
  ]
}